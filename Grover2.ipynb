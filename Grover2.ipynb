{
 "cells": [
  {
   "cell_type": "code",
   "execution_count": 2,
   "metadata": {},
   "outputs": [],
   "source": [
    "from qiskit import Aer, QuantumCircuit, transpile, assemble\n",
    "from qiskit.visualization import plot_histogram"
   ]
  },
  {
   "cell_type": "code",
   "execution_count": 8,
   "metadata": {},
   "outputs": [],
   "source": [
    "def oracle_circuit(n, k):\n",
    "    oracle_circuit = QuantumCircuit(n+1, n)\n",
    "    \n",
    "    # Configurar el oráculo\n",
    "    for qubit in range(n):\n",
    "        if (k >> qubit) & 1:\n",
    "            oracle_circuit.x(qubit)\n",
    "    \n",
    "    # Implementar el oráculo\n",
    "    oracle_circuit.mct(list(range(n)), n)  # Multi-controlled Toffoli gate\n",
    "    \n",
    "    # Deshacer los cambios en la entrada\n",
    "    for qubit in range(n):\n",
    "        if (k >> qubit) & 1:\n",
    "            oracle_circuit.x(qubit)\n",
    "    oracle_gate = oracle_circuit.to_gate()\n",
    "    oracle_gate.name = \"Oracle\"\n",
    "    \n",
    "    # Especificar explícitamente los parámetros de la compuerta controlada\n",
    "    oracle_gate = oracle_gate.control(num_ctrl_qubits=n)\n",
    "    \n",
    "    return oracle_gate"
   ]
  },
  {
   "cell_type": "code",
   "execution_count": 9,
   "metadata": {},
   "outputs": [],
   "source": [
    "def grover_circuit(n, oracle_gate, iterations):\n",
    "    grover_circuit = QuantumCircuit(n+1, n)\n",
    "    \n",
    "    # Inicializar los qubits en superposición\n",
    "    grover_circuit.h(range(n+1))\n",
    "    \n",
    "    # Implementar Grover's algorithm\n",
    "    for _ in range(iterations):\n",
    "        grover_circuit.append(oracle_gate, range(n+1))\n",
    "        grover_circuit.h(range(n+1))\n",
    "        grover_circuit.x(range(n+1))\n",
    "        grover_circuit.mct(list(range(n)), n)\n",
    "        grover_circuit.x(range(n+1))\n",
    "        grover_circuit.h(range(n+1))\n",
    "    \n",
    "    # Medir los qubits\n",
    "    grover_circuit.measure(range(n), range(n))\n",
    "    \n",
    "    return grover_circuit"
   ]
  },
  {
   "cell_type": "code",
   "execution_count": 10,
   "metadata": {},
   "outputs": [],
   "source": [
    "# Lista y número a buscar\n",
    "lista = [25, 37, 47, 29, 8, 12, 44, 30, 24, 33, 15, 39, 46, 5, 22]\n",
    "k = 8"
   ]
  },
  {
   "cell_type": "code",
   "execution_count": 11,
   "metadata": {},
   "outputs": [],
   "source": [
    "# Encontrar la posición de k en la lista\n",
    "posicion = lista.index(k)\n",
    "\n",
    "# Número de bits necesario para representar la lista\n",
    "n = len(bin(max(lista))) - 2"
   ]
  },
  {
   "cell_type": "code",
   "execution_count": 12,
   "metadata": {},
   "outputs": [
    {
     "ename": "QiskitError",
     "evalue": "'Circuit with classical bits cannot be converted to gate.'",
     "output_type": "error",
     "traceback": [
      "\u001b[1;31m---------------------------------------------------------------------------\u001b[0m",
      "\u001b[1;31mQiskitError\u001b[0m                               Traceback (most recent call last)",
      "\u001b[1;32mc:\\Users\\danie\\OneDrive - Universidad Tecnológica de Panamá\\Repositories\\Quantum Computing routemap\\QuantumTesting\\Grover2.ipynb Cell 6\u001b[0m line \u001b[0;36m2\n\u001b[0;32m      <a href='vscode-notebook-cell:/c%3A/Users/danie/OneDrive%20-%20Universidad%20Tecnol%C3%B3gica%20de%20Panam%C3%A1/Repositories/Quantum%20Computing%20routemap/QuantumTesting/Grover2.ipynb#W5sZmlsZQ%3D%3D?line=0'>1</a>\u001b[0m \u001b[39m# Crear el oráculo y el circuito de Grover\u001b[39;00m\n\u001b[1;32m----> <a href='vscode-notebook-cell:/c%3A/Users/danie/OneDrive%20-%20Universidad%20Tecnol%C3%B3gica%20de%20Panam%C3%A1/Repositories/Quantum%20Computing%20routemap/QuantumTesting/Grover2.ipynb#W5sZmlsZQ%3D%3D?line=1'>2</a>\u001b[0m oracle \u001b[39m=\u001b[39m oracle_circuit(n, posicion)\n\u001b[0;32m      <a href='vscode-notebook-cell:/c%3A/Users/danie/OneDrive%20-%20Universidad%20Tecnol%C3%B3gica%20de%20Panam%C3%A1/Repositories/Quantum%20Computing%20routemap/QuantumTesting/Grover2.ipynb#W5sZmlsZQ%3D%3D?line=2'>3</a>\u001b[0m grover_circuito \u001b[39m=\u001b[39m grover_circuit(n, oracle, iterations\u001b[39m=\u001b[39m\u001b[39m1\u001b[39m)\n",
      "\u001b[1;32mc:\\Users\\danie\\OneDrive - Universidad Tecnológica de Panamá\\Repositories\\Quantum Computing routemap\\QuantumTesting\\Grover2.ipynb Cell 6\u001b[0m line \u001b[0;36m1\n\u001b[0;32m     <a href='vscode-notebook-cell:/c%3A/Users/danie/OneDrive%20-%20Universidad%20Tecnol%C3%B3gica%20de%20Panam%C3%A1/Repositories/Quantum%20Computing%20routemap/QuantumTesting/Grover2.ipynb#W5sZmlsZQ%3D%3D?line=13'>14</a>\u001b[0m     \u001b[39mif\u001b[39;00m (k \u001b[39m>>\u001b[39m qubit) \u001b[39m&\u001b[39m \u001b[39m1\u001b[39m:\n\u001b[0;32m     <a href='vscode-notebook-cell:/c%3A/Users/danie/OneDrive%20-%20Universidad%20Tecnol%C3%B3gica%20de%20Panam%C3%A1/Repositories/Quantum%20Computing%20routemap/QuantumTesting/Grover2.ipynb#W5sZmlsZQ%3D%3D?line=14'>15</a>\u001b[0m         oracle_circuit\u001b[39m.\u001b[39mx(qubit)\n\u001b[1;32m---> <a href='vscode-notebook-cell:/c%3A/Users/danie/OneDrive%20-%20Universidad%20Tecnol%C3%B3gica%20de%20Panam%C3%A1/Repositories/Quantum%20Computing%20routemap/QuantumTesting/Grover2.ipynb#W5sZmlsZQ%3D%3D?line=15'>16</a>\u001b[0m oracle_gate \u001b[39m=\u001b[39m oracle_circuit\u001b[39m.\u001b[39;49mto_gate()\n\u001b[0;32m     <a href='vscode-notebook-cell:/c%3A/Users/danie/OneDrive%20-%20Universidad%20Tecnol%C3%B3gica%20de%20Panam%C3%A1/Repositories/Quantum%20Computing%20routemap/QuantumTesting/Grover2.ipynb#W5sZmlsZQ%3D%3D?line=16'>17</a>\u001b[0m oracle_gate\u001b[39m.\u001b[39mname \u001b[39m=\u001b[39m \u001b[39m\"\u001b[39m\u001b[39mOracle\u001b[39m\u001b[39m\"\u001b[39m\n\u001b[0;32m     <a href='vscode-notebook-cell:/c%3A/Users/danie/OneDrive%20-%20Universidad%20Tecnol%C3%B3gica%20de%20Panam%C3%A1/Repositories/Quantum%20Computing%20routemap/QuantumTesting/Grover2.ipynb#W5sZmlsZQ%3D%3D?line=18'>19</a>\u001b[0m \u001b[39mreturn\u001b[39;00m oracle_gate\n",
      "File \u001b[1;32m~\\AppData\\Local\\Packages\\PythonSoftwareFoundation.Python.3.11_qbz5n2kfra8p0\\LocalCache\\local-packages\\Python311\\site-packages\\qiskit\\circuit\\quantumcircuit.py:1565\u001b[0m, in \u001b[0;36mQuantumCircuit.to_gate\u001b[1;34m(self, parameter_map, label)\u001b[0m\n\u001b[0;32m   1550\u001b[0m \u001b[39m\u001b[39m\u001b[39m\"\"\"Create a Gate out of this circuit.\u001b[39;00m\n\u001b[0;32m   1551\u001b[0m \n\u001b[0;32m   1552\u001b[0m \u001b[39mArgs:\u001b[39;00m\n\u001b[1;32m   (...)\u001b[0m\n\u001b[0;32m   1561\u001b[0m \u001b[39m    (can be decomposed back)\u001b[39;00m\n\u001b[0;32m   1562\u001b[0m \u001b[39m\"\"\"\u001b[39;00m\n\u001b[0;32m   1563\u001b[0m \u001b[39mfrom\u001b[39;00m \u001b[39mqiskit\u001b[39;00m\u001b[39m.\u001b[39;00m\u001b[39mconverters\u001b[39;00m\u001b[39m.\u001b[39;00m\u001b[39mcircuit_to_gate\u001b[39;00m \u001b[39mimport\u001b[39;00m circuit_to_gate\n\u001b[1;32m-> 1565\u001b[0m \u001b[39mreturn\u001b[39;00m circuit_to_gate(\u001b[39mself\u001b[39;49m, parameter_map, label\u001b[39m=\u001b[39;49mlabel)\n",
      "File \u001b[1;32m~\\AppData\\Local\\Packages\\PythonSoftwareFoundation.Python.3.11_qbz5n2kfra8p0\\LocalCache\\local-packages\\Python311\\site-packages\\qiskit\\converters\\circuit_to_gate.py:50\u001b[0m, in \u001b[0;36mcircuit_to_gate\u001b[1;34m(circuit, parameter_map, equivalence_library, label)\u001b[0m\n\u001b[0;32m     47\u001b[0m \u001b[39mfrom\u001b[39;00m \u001b[39mqiskit\u001b[39;00m\u001b[39m.\u001b[39;00m\u001b[39mcircuit\u001b[39;00m\u001b[39m.\u001b[39;00m\u001b[39mquantumcircuit\u001b[39;00m \u001b[39mimport\u001b[39;00m QuantumCircuit\n\u001b[0;32m     49\u001b[0m \u001b[39mif\u001b[39;00m circuit\u001b[39m.\u001b[39mclbits:\n\u001b[1;32m---> 50\u001b[0m     \u001b[39mraise\u001b[39;00m QiskitError(\u001b[39m\"\u001b[39m\u001b[39mCircuit with classical bits cannot be converted to gate.\u001b[39m\u001b[39m\"\u001b[39m)\n\u001b[0;32m     52\u001b[0m \u001b[39mfor\u001b[39;00m instruction \u001b[39min\u001b[39;00m circuit\u001b[39m.\u001b[39mdata:\n\u001b[0;32m     53\u001b[0m     \u001b[39mif\u001b[39;00m \u001b[39mnot\u001b[39;00m \u001b[39misinstance\u001b[39m(instruction\u001b[39m.\u001b[39moperation, Gate):\n",
      "\u001b[1;31mQiskitError\u001b[0m: 'Circuit with classical bits cannot be converted to gate.'"
     ]
    }
   ],
   "source": [
    "# Crear el oráculo y el circuito de Grover\n",
    "oracle = oracle_circuit(n, posicion)\n",
    "grover_circuito = grover_circuit(n, oracle, iterations=1)"
   ]
  }
 ],
 "metadata": {
  "kernelspec": {
   "display_name": "Python 3",
   "language": "python",
   "name": "python3"
  },
  "language_info": {
   "codemirror_mode": {
    "name": "ipython",
    "version": 3
   },
   "file_extension": ".py",
   "mimetype": "text/x-python",
   "name": "python",
   "nbconvert_exporter": "python",
   "pygments_lexer": "ipython3",
   "version": "3.11.6"
  }
 },
 "nbformat": 4,
 "nbformat_minor": 2
}
